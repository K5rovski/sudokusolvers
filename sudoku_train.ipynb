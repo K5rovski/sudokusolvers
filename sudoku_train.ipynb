{
 "cells": [
  {
   "cell_type": "code",
   "execution_count": null,
   "id": "1b6b69c5-aa11-48e3-a194-a611d8d64f46",
   "metadata": {
    "collapsed": false,
    "gradient": {
     "editing": false,
     "id": "1b6b69c5-aa11-48e3-a194-a611d8d64f46",
     "kernelId": "d331b851-182b-40aa-9975-c9dd2cc4fde4",
     "source_hidden": false
    }
   },
   "outputs": [],
   "source": [
    "import logging\r\n",
    "import torch\r\n",
    "import pandas as pd\r\n",
    "from torch.utils.tensorboard import SummaryWriter\r\n",
    "from unet_module import UNET\r\n",
    "from SudokuDataset import SudokuDataset\r\n",
    "import sys\r\n",
    "from unet_master import train_net\r\n",
    "\r\n",
    "\r\n",
    "class objectview(object):\r\n",
    "    def __init__(self, d):\r\n",
    "        self.__dict__ = d\r\n"
   ]
  },
  {
   "cell_type": "code",
   "execution_count": null,
   "id": "dd0d89c0-ded0-468e-9754-87fc82294745",
   "metadata": {
    "collapsed": false,
    "gradient": {
     "editing": false,
     "id": "dd0d89c0-ded0-468e-9754-87fc82294745",
     "kernelId": "d331b851-182b-40aa-9975-c9dd2cc4fde4",
     "source_hidden": false
    }
   },
   "outputs": [
    {
     "name": "stderr",
     "output_type": "stream",
     "text": [
      "INFO: Using device cuda\n"
     ]
    },
    {
     "name": "stderr",
     "output_type": "stream",
     "text": [
      "\r",
      "Epoch 1/10:   0%|          | 0/2673000 [00:00<?, ?img/s]"
     ]
    }
   ],
   "source": [
    "    logging.basicConfig(level=logging.INFO, format='%(levelname)s: %(message)s')\r\n",
    "    device = torch.device('cuda' if torch.cuda.is_available() else 'cpu')\r\n",
    "    logging.info(f'Using device {device}')\r\n",
    "    writer = SummaryWriter('runs/unet_testing_1')\r\n",
    "\r\n",
    "    args = objectview({\r\n",
    "        'epochs': 10,\r\n",
    "        'batch_size': 256,\r\n",
    "        'lr': 1e-5,\r\n",
    "        'val': 1,\r\n",
    "        'amp': True,\r\n",
    "    })\r\n",
    "\r\n",
    "    model = UNET(in_channels=10, out_channels=9)\r\n",
    "    data = pd.read_csv('sudoku-3m.csv', sep=',')\r\n",
    "\r\n",
    "\r\n",
    "\r\n",
    "    dataset = SudokuDataset(data)\r\n",
    "\r\n",
    "\r\n",
    "    model.to(device=device)\r\n",
    "    try:\r\n",
    "        train_net(net=model,\r\n",
    "                  dataset=dataset,\r\n",
    "                  epochs=args.epochs,\r\n",
    "                  batch_size=args.batch_size,\r\n",
    "                  learning_rate=args.lr,\r\n",
    "                  device=device,\r\n",
    "                  writer=writer,\r\n",
    "                  val_percent=args.val / 100,\r\n",
    "                  amp=args.amp)\r\n",
    "    except KeyboardInterrupt:\r\n",
    "        torch.save(model.state_dict(), 'INTERRUPTED.pth')\r\n",
    "        logging.info('Saved interrupt')\r\n",
    "        sys.exit(0)\r\n"
   ]
  },
  {
   "cell_type": "code",
   "execution_count": null,
   "id": "3e2356da-5b5a-4f62-ae9d-60122356a2db",
   "metadata": {
    "collapsed": false,
    "gradient": {
     "editing": false,
     "id": "3e2356da-5b5a-4f62-ae9d-60122356a2db",
     "kernelId": "d331b851-182b-40aa-9975-c9dd2cc4fde4",
     "source_hidden": false
    }
   },
   "outputs": [
    {
     "name": "stdout",
     "output_type": "stream",
     "text": [
      "Looking in indexes: https://pypi.org/simple, https://pypi.ngc.nvidia.com\r\n"
     ]
    },
    {
     "name": "stdout",
     "output_type": "stream",
     "text": [
      "Collecting kaggle\r\n"
     ]
    },
    {
     "name": "stdout",
     "output_type": "stream",
     "text": [
      "  Downloading kaggle-1.5.12.tar.gz (58 kB)\r\n",
      "\u001b[?25l\r",
      "\u001b[K     |█████▋                          | 10 kB 30.4 MB/s eta 0:00:01\r",
      "\u001b[K     |███████████▏                    | 20 kB 36.7 MB/s eta 0:00:01\r",
      "\u001b[K     |████████████████▊               | 30 kB 33.7 MB/s eta 0:00:01\r",
      "\u001b[K     |██████████████████████▎         | 40 kB 20.7 MB/s eta 0:00:01\r",
      "\u001b[K     |███████████████████████████▉    | 51 kB 20.1 MB/s eta 0:00:01\r",
      "\u001b[K     |████████████████████████████████| 58 kB 22.1 MB/s \r\n"
     ]
    },
    {
     "name": "stdout",
     "output_type": "stream",
     "text": [
      "\u001b[?25hRequirement already satisfied: six>=1.10 in /opt/conda/lib/python3.8/site-packages (from kaggle) (1.16.0)\r\n",
      "Requirement already satisfied: certifi in /opt/conda/lib/python3.8/site-packages (from kaggle) (2021.10.8)\r\n",
      "Requirement already satisfied: python-dateutil in /opt/conda/lib/python3.8/site-packages (from kaggle) (2.8.2)\r\n",
      "Requirement already satisfied: requests in /opt/conda/lib/python3.8/site-packages (from kaggle) (2.26.0)\r\n",
      "Requirement already satisfied: tqdm in /opt/conda/lib/python3.8/site-packages (from kaggle) (4.62.3)\r\n",
      "Requirement already satisfied: python-slugify in /opt/conda/lib/python3.8/site-packages (from kaggle) (5.0.2)\r\n",
      "Requirement already satisfied: urllib3 in /opt/conda/lib/python3.8/site-packages (from kaggle) (1.26.7)\r\n",
      "Requirement already satisfied: text-unidecode>=1.3 in /opt/conda/lib/python3.8/site-packages (from python-slugify->kaggle) (1.3)\r\n"
     ]
    },
    {
     "name": "stdout",
     "output_type": "stream",
     "text": [
      "Requirement already satisfied: charset-normalizer~=2.0.0 in /opt/conda/lib/python3.8/site-packages (from requests->kaggle) (2.0.9)\r\n",
      "Requirement already satisfied: idna<4,>=2.5 in /opt/conda/lib/python3.8/site-packages (from requests->kaggle) (3.1)\r\n",
      "Building wheels for collected packages: kaggle\r\n"
     ]
    },
    {
     "name": "stdout",
     "output_type": "stream",
     "text": [
      "  Building wheel for kaggle (setup.py) ... \u001b[?25l-"
     ]
    },
    {
     "name": "stdout",
     "output_type": "stream",
     "text": [
      "\b \b\\\b \bdone\r\n",
      "\u001b[?25h  Created wheel for kaggle: filename=kaggle-1.5.12-py3-none-any.whl size=73052 sha256=10effdbf85b09cc3b493bb91fec7ba2eff3edd257c87378937e3fe1fe730e14d\r\n",
      "  Stored in directory: /tmp/pip-ephem-wheel-cache-et1suu3_/wheels/29/da/11/144cc25aebdaeb4931b231e25fd34b394e6a5725cbb2f50106\r\n"
     ]
    },
    {
     "name": "stdout",
     "output_type": "stream",
     "text": [
      "Successfully built kaggle\r\n"
     ]
    },
    {
     "name": "stdout",
     "output_type": "stream",
     "text": [
      "Installing collected packages: kaggle\r\n"
     ]
    },
    {
     "name": "stdout",
     "output_type": "stream",
     "text": [
      "Successfully installed kaggle-1.5.12\r\n",
      "\u001b[33mWARNING: Running pip as the 'root' user can result in broken permissions and conflicting behaviour with the system package manager. It is recommended to use a virtual environment instead: https://pip.pypa.io/warnings/venv\u001b[0m\r\n"
     ]
    }
   ],
   "source": [
    "!pip install kaggle"
   ]
  },
  {
   "cell_type": "code",
   "execution_count": null,
   "id": "2aba8790-2509-473c-906e-782d409ea9ab",
   "metadata": {
    "collapsed": false,
    "gradient": {
     "editing": false,
     "id": "2aba8790-2509-473c-906e-782d409ea9ab",
     "kernelId": "d331b851-182b-40aa-9975-c9dd2cc4fde4",
     "source_hidden": false
    }
   },
   "outputs": [
    {
     "name": "stdout",
     "output_type": "stream",
     "text": [
      "Downloading 3-million-sudoku-puzzles-with-ratings.zip to /notebooks\r\n",
      "\r",
      "  0%|                                                | 0.00/207M [00:00<?, ?B/s]"
     ]
    },
    {
     "name": "stdout",
     "output_type": "stream",
     "text": [
      "\r",
      "  1%|▍                                      | 2.00M/207M [00:00<00:13, 16.1MB/s]"
     ]
    },
    {
     "name": "stdout",
     "output_type": "stream",
     "text": [
      "\r",
      "  2%|▉                                      | 5.00M/207M [00:00<00:09, 22.6MB/s]"
     ]
    },
    {
     "name": "stdout",
     "output_type": "stream",
     "text": [
      "\r",
      "  4%|█▌                                     | 8.00M/207M [00:00<00:09, 22.7MB/s]"
     ]
    },
    {
     "name": "stdout",
     "output_type": "stream",
     "text": [
      "\r",
      "  5%|██                                     | 11.0M/207M [00:00<00:09, 22.6MB/s]"
     ]
    },
    {
     "name": "stdout",
     "output_type": "stream",
     "text": [
      "\r",
      "  7%|██▋                                    | 14.0M/207M [00:00<00:08, 23.1MB/s]"
     ]
    },
    {
     "name": "stdout",
     "output_type": "stream",
     "text": [
      "\r",
      "  8%|███▏                                   | 17.0M/207M [00:01<00:16, 11.8MB/s]"
     ]
    },
    {
     "name": "stdout",
     "output_type": "stream",
     "text": [
      "\r",
      " 10%|███▊                                   | 20.0M/207M [00:01<00:13, 14.2MB/s]"
     ]
    },
    {
     "name": "stdout",
     "output_type": "stream",
     "text": [
      "\r",
      " 11%|████▎                                  | 23.0M/207M [00:01<00:11, 16.4MB/s]"
     ]
    },
    {
     "name": "stdout",
     "output_type": "stream",
     "text": [
      "\r",
      " 13%|████▉                                  | 26.0M/207M [00:01<00:10, 18.1MB/s]"
     ]
    },
    {
     "name": "stdout",
     "output_type": "stream",
     "text": [
      "\r",
      " 14%|█████▍                                 | 29.0M/207M [00:01<00:09, 19.5MB/s]"
     ]
    },
    {
     "name": "stdout",
     "output_type": "stream",
     "text": [
      "\r",
      " 15%|██████                                 | 32.0M/207M [00:01<00:08, 20.8MB/s]"
     ]
    },
    {
     "name": "stdout",
     "output_type": "stream",
     "text": [
      "\r",
      " 17%|██████▌                                | 35.0M/207M [00:01<00:08, 21.6MB/s]"
     ]
    },
    {
     "name": "stdout",
     "output_type": "stream",
     "text": [
      "\r",
      " 18%|███████▏                               | 38.0M/207M [00:02<00:07, 22.3MB/s]"
     ]
    },
    {
     "name": "stdout",
     "output_type": "stream",
     "text": [
      "\r",
      " 20%|███████▋                               | 41.0M/207M [00:02<00:07, 22.6MB/s]"
     ]
    },
    {
     "name": "stdout",
     "output_type": "stream",
     "text": [
      "\r",
      " 21%|████████▎                              | 44.0M/207M [00:02<00:07, 23.1MB/s]"
     ]
    },
    {
     "name": "stdout",
     "output_type": "stream",
     "text": [
      "\r",
      " 23%|████████▊                              | 47.0M/207M [00:02<00:07, 23.3MB/s]"
     ]
    },
    {
     "name": "stdout",
     "output_type": "stream",
     "text": [
      "\r",
      " 24%|█████████▍                             | 50.0M/207M [00:02<00:07, 23.5MB/s]"
     ]
    },
    {
     "name": "stdout",
     "output_type": "stream",
     "text": [
      "\r",
      " 26%|█████████▉                             | 53.0M/207M [00:02<00:06, 23.4MB/s]"
     ]
    },
    {
     "name": "stdout",
     "output_type": "stream",
     "text": [
      "\r",
      " 27%|██████████▌                            | 56.0M/207M [00:02<00:06, 23.7MB/s]"
     ]
    },
    {
     "name": "stdout",
     "output_type": "stream",
     "text": [
      "\r",
      " 29%|███████████                            | 59.0M/207M [00:03<00:06, 23.7MB/s]"
     ]
    },
    {
     "name": "stdout",
     "output_type": "stream",
     "text": [
      "\r",
      " 30%|███████████▋                           | 62.0M/207M [00:03<00:06, 23.8MB/s]"
     ]
    },
    {
     "name": "stdout",
     "output_type": "stream",
     "text": [
      "\r",
      " 31%|████████████▏                          | 65.0M/207M [00:03<00:06, 23.6MB/s]"
     ]
    },
    {
     "name": "stdout",
     "output_type": "stream",
     "text": [
      "\r",
      " 33%|████████████▊                          | 68.0M/207M [00:03<00:06, 23.8MB/s]"
     ]
    },
    {
     "name": "stdout",
     "output_type": "stream",
     "text": [
      "\r",
      " 34%|█████████████▍                         | 71.0M/207M [00:03<00:05, 23.8MB/s]"
     ]
    },
    {
     "name": "stdout",
     "output_type": "stream",
     "text": [
      "\r",
      " 36%|█████████████▉                         | 74.0M/207M [00:03<00:05, 23.8MB/s]"
     ]
    },
    {
     "name": "stdout",
     "output_type": "stream",
     "text": [
      "\r",
      " 37%|██████████████▌                        | 77.0M/207M [00:03<00:05, 23.7MB/s]"
     ]
    },
    {
     "name": "stdout",
     "output_type": "stream",
     "text": [
      "\r",
      " 39%|███████████████                        | 80.0M/207M [00:03<00:05, 23.9MB/s]"
     ]
    },
    {
     "name": "stdout",
     "output_type": "stream",
     "text": [
      "\r",
      " 40%|███████████████▋                       | 83.0M/207M [00:04<00:05, 23.9MB/s]"
     ]
    },
    {
     "name": "stdout",
     "output_type": "stream",
     "text": [
      "\r",
      " 42%|████████████████▏                      | 86.0M/207M [00:04<00:05, 23.9MB/s]"
     ]
    },
    {
     "name": "stdout",
     "output_type": "stream",
     "text": [
      "\r",
      " 43%|████████████████▊                      | 89.0M/207M [00:04<00:05, 23.7MB/s]"
     ]
    },
    {
     "name": "stdout",
     "output_type": "stream",
     "text": [
      "\r",
      " 44%|█████████████████▎                     | 92.0M/207M [00:04<00:05, 23.9MB/s]"
     ]
    },
    {
     "name": "stdout",
     "output_type": "stream",
     "text": [
      "\r",
      " 46%|█████████████████▉                     | 95.0M/207M [00:04<00:04, 23.9MB/s]"
     ]
    },
    {
     "name": "stdout",
     "output_type": "stream",
     "text": [
      "\r",
      " 47%|██████████████████▍                    | 98.0M/207M [00:04<00:04, 23.9MB/s]"
     ]
    },
    {
     "name": "stdout",
     "output_type": "stream",
     "text": [
      "\r",
      " 49%|███████████████████▌                    | 101M/207M [00:04<00:05, 20.1MB/s]"
     ]
    },
    {
     "name": "stdout",
     "output_type": "stream",
     "text": [
      "\r",
      " 50%|████████████████████                    | 104M/207M [00:05<00:05, 19.4MB/s]"
     ]
    },
    {
     "name": "stdout",
     "output_type": "stream",
     "text": [
      "\r",
      " 52%|████████████████████▋                   | 107M/207M [00:05<00:05, 20.5MB/s]"
     ]
    },
    {
     "name": "stdout",
     "output_type": "stream",
     "text": [
      "\r",
      " 53%|█████████████████████▎                  | 110M/207M [00:05<00:04, 21.4MB/s]"
     ]
    },
    {
     "name": "stdout",
     "output_type": "stream",
     "text": [
      "\r",
      " 55%|█████████████████████▊                  | 113M/207M [00:05<00:04, 21.8MB/s]"
     ]
    },
    {
     "name": "stdout",
     "output_type": "stream",
     "text": [
      "\r",
      " 56%|██████████████████████▍                 | 116M/207M [00:05<00:04, 22.5MB/s]"
     ]
    },
    {
     "name": "stdout",
     "output_type": "stream",
     "text": [
      "\r",
      " 58%|███████████████████████                 | 119M/207M [00:05<00:04, 22.9MB/s]"
     ]
    },
    {
     "name": "stdout",
     "output_type": "stream",
     "text": [
      "\r",
      " 59%|███████████████████████▌                | 122M/207M [00:06<00:04, 18.9MB/s]"
     ]
    },
    {
     "name": "stdout",
     "output_type": "stream",
     "text": [
      "\r",
      " 60%|████████████████████████▏               | 125M/207M [00:06<00:04, 20.1MB/s]"
     ]
    },
    {
     "name": "stdout",
     "output_type": "stream",
     "text": [
      "\r",
      " 62%|████████████████████████▋               | 128M/207M [00:06<00:03, 21.2MB/s]"
     ]
    },
    {
     "name": "stdout",
     "output_type": "stream",
     "text": [
      "\r",
      " 63%|█████████████████████████▎              | 131M/207M [00:06<00:03, 21.9MB/s]"
     ]
    },
    {
     "name": "stdout",
     "output_type": "stream",
     "text": [
      "\r",
      " 65%|█████████████████████████▉              | 134M/207M [00:06<00:03, 22.5MB/s]"
     ]
    },
    {
     "name": "stdout",
     "output_type": "stream",
     "text": [
      "\r",
      " 66%|██████████████████████████▍             | 137M/207M [00:06<00:03, 22.7MB/s]"
     ]
    },
    {
     "name": "stdout",
     "output_type": "stream",
     "text": [
      "\r",
      " 68%|███████████████████████████             | 140M/207M [00:06<00:03, 23.2MB/s]"
     ]
    },
    {
     "name": "stdout",
     "output_type": "stream",
     "text": [
      "\r",
      " 69%|███████████████████████████▋            | 143M/207M [00:06<00:02, 23.4MB/s]"
     ]
    },
    {
     "name": "stdout",
     "output_type": "stream",
     "text": [
      "\r",
      " 71%|████████████████████████████▏           | 146M/207M [00:07<00:02, 23.5MB/s]"
     ]
    },
    {
     "name": "stdout",
     "output_type": "stream",
     "text": [
      "\r",
      " 72%|████████████████████████████▊           | 149M/207M [00:07<00:02, 23.5MB/s]"
     ]
    },
    {
     "name": "stdout",
     "output_type": "stream",
     "text": [
      "\r",
      " 73%|█████████████████████████████▍          | 152M/207M [00:07<00:02, 23.7MB/s]"
     ]
    },
    {
     "name": "stdout",
     "output_type": "stream",
     "text": [
      "\r",
      " 75%|█████████████████████████████▉          | 155M/207M [00:07<00:02, 23.8MB/s]"
     ]
    },
    {
     "name": "stdout",
     "output_type": "stream",
     "text": [
      "\r",
      " 76%|██████████████████████████████▌         | 158M/207M [00:07<00:02, 23.8MB/s]"
     ]
    },
    {
     "name": "stdout",
     "output_type": "stream",
     "text": [
      "\r",
      " 78%|███████████████████████████████         | 161M/207M [00:07<00:02, 23.7MB/s]"
     ]
    },
    {
     "name": "stdout",
     "output_type": "stream",
     "text": [
      "\r",
      " 79%|███████████████████████████████▋        | 164M/207M [00:07<00:01, 23.8MB/s]"
     ]
    },
    {
     "name": "stdout",
     "output_type": "stream",
     "text": [
      "\r",
      " 81%|████████████████████████████████▎       | 167M/207M [00:07<00:01, 23.8MB/s]"
     ]
    },
    {
     "name": "stdout",
     "output_type": "stream",
     "text": [
      "\r",
      " 82%|████████████████████████████████▊       | 170M/207M [00:08<00:01, 23.8MB/s]"
     ]
    },
    {
     "name": "stdout",
     "output_type": "stream",
     "text": [
      "\r",
      " 84%|█████████████████████████████████▍      | 173M/207M [00:08<00:01, 23.7MB/s]"
     ]
    },
    {
     "name": "stdout",
     "output_type": "stream",
     "text": [
      "\r",
      " 85%|██████████████████████████████████      | 176M/207M [00:08<00:01, 23.9MB/s]"
     ]
    },
    {
     "name": "stdout",
     "output_type": "stream",
     "text": [
      "\r",
      " 86%|██████████████████████████████████▌     | 179M/207M [00:08<00:01, 23.6MB/s]"
     ]
    },
    {
     "name": "stdout",
     "output_type": "stream",
     "text": [
      "\r",
      " 88%|███████████████████████████████████▏    | 182M/207M [00:08<00:01, 23.7MB/s]"
     ]
    },
    {
     "name": "stdout",
     "output_type": "stream",
     "text": [
      "\r",
      " 89%|███████████████████████████████████▊    | 185M/207M [00:08<00:00, 23.6MB/s]"
     ]
    },
    {
     "name": "stdout",
     "output_type": "stream",
     "text": [
      "\r",
      " 91%|████████████████████████████████████▎   | 188M/207M [00:08<00:00, 23.8MB/s]"
     ]
    },
    {
     "name": "stdout",
     "output_type": "stream",
     "text": [
      "\r",
      " 92%|████████████████████████████████████▉   | 191M/207M [00:09<00:00, 23.8MB/s]"
     ]
    },
    {
     "name": "stdout",
     "output_type": "stream",
     "text": [
      "\r",
      " 94%|█████████████████████████████████████▍  | 194M/207M [00:09<00:00, 23.8MB/s]"
     ]
    },
    {
     "name": "stdout",
     "output_type": "stream",
     "text": [
      "\r",
      " 95%|██████████████████████████████████████  | 197M/207M [00:09<00:00, 23.7MB/s]"
     ]
    },
    {
     "name": "stdout",
     "output_type": "stream",
     "text": [
      "\r",
      " 97%|██████████████████████████████████████▋ | 200M/207M [00:09<00:00, 23.9MB/s]"
     ]
    },
    {
     "name": "stdout",
     "output_type": "stream",
     "text": [
      "\r",
      " 98%|███████████████████████████████████████▏| 203M/207M [00:09<00:00, 23.9MB/s]"
     ]
    },
    {
     "name": "stdout",
     "output_type": "stream",
     "text": [
      "\r",
      "100%|███████████████████████████████████████▊| 206M/207M [00:09<00:00, 23.9MB/s]"
     ]
    },
    {
     "name": "stdout",
     "output_type": "stream",
     "text": [
      "\r\n",
      "\r",
      "100%|████████████████████████████████████████| 207M/207M [00:09<00:00, 22.2MB/s]\r\n"
     ]
    }
   ],
   "source": [
    "!KAGGLE_USERNAME=k5rovski KAGGLE_KEY=89b46e4c1db01fa6d45d5d15fb4a47e9 kaggle datasets download -d radcliffe/3-million-sudoku-puzzles-with-ratings"
   ]
  },
  {
   "cell_type": "code",
   "execution_count": null,
   "id": "37ee7c6d-d4bb-4e06-89f1-983eaafd4038",
   "metadata": {
    "collapsed": false,
    "gradient": {
     "editing": false,
     "execution_count": 18,
     "id": "37ee7c6d-d4bb-4e06-89f1-983eaafd4038",
     "kernelId": "d331b851-182b-40aa-9975-c9dd2cc4fde4",
     "source_hidden": false
    }
   },
   "outputs": [
    {
     "name": "stdout",
     "output_type": "stream",
     "text": [
      "Archive:  3-million-sudoku-puzzles-with-ratings.zip\r\n",
      "replace sudoku-3m.csv? [y]es, [n]o, [A]ll, [N]one, [r]ename: "
     ]
    },
    {
     "name": "stdout",
     "output_type": "stream",
     "text": [
      "^C\r\n"
     ]
    }
   ],
   "source": [
    "!unzip 3-million-sudoku-puzzles-with-ratings.zip"
   ]
  },
  {
   "cell_type": "code",
   "execution_count": null,
   "id": "018f7484-e7e1-43a9-b5fe-af821c8953f2",
   "metadata": {
    "collapsed": false,
    "gradient": {
     "editing": false,
     "id": "018f7484-e7e1-43a9-b5fe-af821c8953f2",
     "kernelId": "d331b851-182b-40aa-9975-c9dd2cc4fde4",
     "source_hidden": false
    }
   },
   "outputs": [],
   "source": []
  }
 ],
 "metadata": {},
 "nbformat": 4,
 "nbformat_minor": 5
}
